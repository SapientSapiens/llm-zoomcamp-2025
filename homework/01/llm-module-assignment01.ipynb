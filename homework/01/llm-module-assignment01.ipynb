{
 "cells": [
  {
   "cell_type": "code",
   "execution_count": 1,
   "id": "44c70db1-38df-431e-ad8f-6cae3894de81",
   "metadata": {},
   "outputs": [
    {
     "name": "stdout",
     "output_type": "stream",
     "text": [
      "Python 3.11.5\n"
     ]
    }
   ],
   "source": [
    "!python --version"
   ]
  },
  {
   "cell_type": "markdown",
   "id": "19820d6b-a023-415b-9044-3a5d1a36bcbf",
   "metadata": {},
   "source": [
    "#### Q1 - Getting the data"
   ]
  },
  {
   "cell_type": "code",
   "execution_count": 2,
   "id": "741da8c3-d7aa-49df-ac1d-2953fc26cc2c",
   "metadata": {},
   "outputs": [
    {
     "name": "stdout",
     "output_type": "stream",
     "text": [
      "Name: requests\n",
      "Version: 2.32.3\n",
      "Summary: Python HTTP for Humans.\n",
      "Home-page: https://requests.readthedocs.io\n",
      "Author: Kenneth Reitz\n",
      "Author-email: me@kennethreitz.org\n",
      "License: Apache-2.0\n",
      "Location: /home/sidd4ml/.pyenv/versions/3.11.5/lib/python3.11/site-packages\n",
      "Requires: certifi, charset-normalizer, idna, urllib3\n",
      "Required-by: google-api-core, google-cloud-storage, jupyterlab_server\n"
     ]
    }
   ],
   "source": [
    "!pip show requests"
   ]
  },
  {
   "cell_type": "code",
   "execution_count": 3,
   "id": "c0119956-88c1-4e80-af66-3142857dc6b1",
   "metadata": {},
   "outputs": [],
   "source": [
    "import requests \n",
    "\n",
    "docs_url = 'https://github.com/DataTalksClub/llm-zoomcamp/blob/main/01-intro/documents.json?raw=1'\n",
    "docs_response = requests.get(docs_url)\n",
    "documents_raw = docs_response.json()\n",
    "\n",
    "documents = []\n",
    "\n",
    "for course in documents_raw:\n",
    "    course_name = course['course']\n",
    "\n",
    "    for doc in course['documents']:\n",
    "        doc['course'] = course_name\n",
    "        documents.append(doc)"
   ]
  },
  {
   "cell_type": "markdown",
   "id": "54f07f45-bf3d-4e27-b99e-27b88e77ccba",
   "metadata": {},
   "source": [
    "#### Q2 -Indexing the data"
   ]
  },
  {
   "cell_type": "code",
   "execution_count": 4,
   "id": "86144120-a06d-4225-9fa6-767292913784",
   "metadata": {},
   "outputs": [
    {
     "name": "stdout",
     "output_type": "stream",
     "text": [
      "Requirement already satisfied: elasticsearch<9,>=8 in /home/sidd4ml/.pyenv/versions/3.11.5/lib/python3.11/site-packages (8.18.1)\n",
      "Requirement already satisfied: elastic-transport<9,>=8.15.1 in /home/sidd4ml/.pyenv/versions/3.11.5/lib/python3.11/site-packages (from elasticsearch<9,>=8) (8.17.1)\n",
      "Requirement already satisfied: python-dateutil in /home/sidd4ml/.pyenv/versions/3.11.5/lib/python3.11/site-packages (from elasticsearch<9,>=8) (2.9.0.post0)\n",
      "Requirement already satisfied: typing-extensions in /home/sidd4ml/.pyenv/versions/3.11.5/lib/python3.11/site-packages (from elasticsearch<9,>=8) (4.12.2)\n",
      "Requirement already satisfied: urllib3<3,>=1.26.2 in /home/sidd4ml/.pyenv/versions/3.11.5/lib/python3.11/site-packages (from elastic-transport<9,>=8.15.1->elasticsearch<9,>=8) (2.3.0)\n",
      "Requirement already satisfied: certifi in /home/sidd4ml/.pyenv/versions/3.11.5/lib/python3.11/site-packages (from elastic-transport<9,>=8.15.1->elasticsearch<9,>=8) (2024.8.30)\n",
      "Requirement already satisfied: six>=1.5 in /home/sidd4ml/.pyenv/versions/3.11.5/lib/python3.11/site-packages (from python-dateutil->elasticsearch<9,>=8) (1.17.0)\n",
      "\n",
      "\u001b[1m[\u001b[0m\u001b[34;49mnotice\u001b[0m\u001b[1;39;49m]\u001b[0m\u001b[39;49m A new release of pip is available: \u001b[0m\u001b[31;49m24.3.1\u001b[0m\u001b[39;49m -> \u001b[0m\u001b[32;49m25.1.1\u001b[0m\n",
      "\u001b[1m[\u001b[0m\u001b[34;49mnotice\u001b[0m\u001b[1;39;49m]\u001b[0m\u001b[39;49m To update, run: \u001b[0m\u001b[32;49mpip install --upgrade pip\u001b[0m\n"
     ]
    }
   ],
   "source": [
    "# since 'pip install elasticsearch' installs elasticsearch 9.x which runs into compatibility issues with Elasticsearch 8.17.6\n",
    "!pip install \"elasticsearch>=8,<9\""
   ]
  },
  {
   "cell_type": "code",
   "execution_count": 5,
   "id": "b50836fe-c958-4234-b437-af70181ef727",
   "metadata": {},
   "outputs": [
    {
     "name": "stdout",
     "output_type": "stream",
     "text": [
      "elasticsearch : (8, 18, 1)\n",
      "Elasticsearch: 8.17.6\n"
     ]
    }
   ],
   "source": [
    "# verifying \n",
    "import elasticsearch\n",
    "print(f\"elasticsearch : {elasticsearch.__version__}\")\n",
    "\n",
    "# 3. Connect to Elasticsearch\n",
    "from elasticsearch import Elasticsearch\n",
    "es = Elasticsearch(\"http://localhost:9200\")\n",
    "print(f\"Elasticsearch: {es.info()['version']['number']}\")"
   ]
  },
  {
   "cell_type": "code",
   "execution_count": 56,
   "id": "e419abf7-8e08-4485-bdc4-37df9c1ca9ee",
   "metadata": {},
   "outputs": [
    {
     "data": {
      "text/plain": [
       "'dbcbbbd0bc4924cfeb28929dc05d82d662c527b7'"
      ]
     },
     "execution_count": 56,
     "metadata": {},
     "output_type": "execute_result"
    }
   ],
   "source": [
    "es.info()['version']['build_hash'] # verify the build hash"
   ]
  },
  {
   "cell_type": "code",
   "execution_count": 6,
   "id": "32825090-4146-462a-9273-be522dc16793",
   "metadata": {},
   "outputs": [],
   "source": [
    "index_settings = {\n",
    "    \"settings\": {\n",
    "        \"number_of_shards\": 1,\n",
    "        \"number_of_replicas\": 0\n",
    "    },\n",
    "    \"mappings\": {\n",
    "        \"properties\": {\n",
    "            \"text\": {\"type\": \"text\"},\n",
    "            \"section\": {\"type\": \"text\"},\n",
    "            \"question\": {\"type\": \"text\"},\n",
    "            \"course\": {\"type\": \"keyword\"} \n",
    "        }\n",
    "    }\n",
    "}\n",
    "\n",
    "index_name = \"course-faq-index\""
   ]
  },
  {
   "cell_type": "code",
   "execution_count": 7,
   "id": "a7e60de7-dfdf-4a90-b161-5e8ed861c29b",
   "metadata": {},
   "outputs": [
    {
     "data": {
      "text/plain": [
       "ObjectApiResponse({'acknowledged': True, 'shards_acknowledged': True, 'index': 'course-faq-index'})"
      ]
     },
     "execution_count": 7,
     "metadata": {},
     "output_type": "execute_result"
    }
   ],
   "source": [
    "es.indices.create(index=index_name, body = index_settings)"
   ]
  },
  {
   "cell_type": "code",
   "execution_count": 8,
   "id": "c7af6ee0-f34a-4cab-8199-60e70e1ce28f",
   "metadata": {},
   "outputs": [
    {
     "name": "stdout",
     "output_type": "stream",
     "text": [
      "Requirement already satisfied: tqdm in /home/sidd4ml/.pyenv/versions/3.11.5/lib/python3.11/site-packages (4.67.1)\n",
      "\n",
      "\u001b[1m[\u001b[0m\u001b[34;49mnotice\u001b[0m\u001b[1;39;49m]\u001b[0m\u001b[39;49m A new release of pip is available: \u001b[0m\u001b[31;49m24.3.1\u001b[0m\u001b[39;49m -> \u001b[0m\u001b[32;49m25.1.1\u001b[0m\n",
      "\u001b[1m[\u001b[0m\u001b[34;49mnotice\u001b[0m\u001b[1;39;49m]\u001b[0m\u001b[39;49m To update, run: \u001b[0m\u001b[32;49mpip install --upgrade pip\u001b[0m\n"
     ]
    }
   ],
   "source": [
    "!pip install tqdm"
   ]
  },
  {
   "cell_type": "code",
   "execution_count": 9,
   "id": "5e8c9aa7-2d8d-4ad8-9a9b-dd4c1251948f",
   "metadata": {},
   "outputs": [],
   "source": [
    "from tqdm.auto import tqdm"
   ]
  },
  {
   "cell_type": "code",
   "execution_count": 10,
   "id": "68cbfc75-53c5-448b-8912-55bf74704f03",
   "metadata": {},
   "outputs": [
    {
     "data": {
      "application/vnd.jupyter.widget-view+json": {
       "model_id": "05f0975beaf24effba066b31c43aae4b",
       "version_major": 2,
       "version_minor": 0
      },
      "text/plain": [
       "  0%|          | 0/948 [00:00<?, ?it/s]"
      ]
     },
     "metadata": {},
     "output_type": "display_data"
    }
   ],
   "source": [
    "for doc in tqdm(documents):\n",
    " es.index(index=index_name, document = doc)"
   ]
  },
  {
   "cell_type": "markdown",
   "id": "0e23d5c1-338c-4d43-9858-7206b5a08ff9",
   "metadata": {},
   "source": [
    "#### Q3. Searching"
   ]
  },
  {
   "cell_type": "code",
   "execution_count": 11,
   "id": "d7f77d0e-ee04-4215-a4a0-cea0658caf88",
   "metadata": {},
   "outputs": [],
   "source": [
    "query = \"How do execute a command on a Kubernetes pod?\""
   ]
  },
  {
   "cell_type": "code",
   "execution_count": 12,
   "id": "262a5209-1ad7-4c0f-8f25-3512a748b3c7",
   "metadata": {},
   "outputs": [],
   "source": [
    "search_query = {\n",
    "    \"size\": 5,\n",
    "    \"query\": {\n",
    "        \"bool\": {\n",
    "            \"must\": {\n",
    "                \"multi_match\": {\n",
    "                    \"query\": query,\n",
    "                    \"fields\": [\"question^4\", \"text\"],\n",
    "                    \"type\": \"best_fields\"\n",
    "                }\n",
    "            }\n",
    "        }\n",
    "    }\n",
    "} "
   ]
  },
  {
   "cell_type": "code",
   "execution_count": 13,
   "id": "15f3a007-c702-4f07-b2ff-547d47042e6f",
   "metadata": {},
   "outputs": [],
   "source": [
    "response = es.search(index=index_name, body=search_query)"
   ]
  },
  {
   "cell_type": "code",
   "execution_count": 14,
   "id": "7700c602-f8c3-4753-9fb7-141d19053c7c",
   "metadata": {},
   "outputs": [],
   "source": [
    "scores =[]\n",
    "for res in response['hits']['hits']:\n",
    "    scores.append(res['_score'])"
   ]
  },
  {
   "cell_type": "code",
   "execution_count": 15,
   "id": "7ea86f02-5c77-4ea4-a519-2c7d92b8ff94",
   "metadata": {},
   "outputs": [
    {
     "data": {
      "text/plain": [
       "44.50556"
      ]
     },
     "execution_count": 15,
     "metadata": {},
     "output_type": "execute_result"
    }
   ],
   "source": [
    "max(scores)"
   ]
  },
  {
   "cell_type": "markdown",
   "id": "fc471812-52f1-4351-9a77-432a3cc96bee",
   "metadata": {},
   "source": [
    "#### Q4. Filtering"
   ]
  },
  {
   "cell_type": "code",
   "execution_count": 16,
   "id": "e8ce3c32-d96f-4680-bd13-f6fab6c3557f",
   "metadata": {},
   "outputs": [],
   "source": [
    "changed_query = \"How do copy a file to a Docker container?\""
   ]
  },
  {
   "cell_type": "code",
   "execution_count": 17,
   "id": "eae80176-2033-4c07-894b-0cc6eaf40d5b",
   "metadata": {},
   "outputs": [],
   "source": [
    "search_query_updated={\n",
    "    \"size\": 3,\n",
    "    \"query\": {\n",
    "        \"bool\": {\n",
    "            \"must\": {\n",
    "                \"multi_match\": {\n",
    "                    \"query\": changed_query,\n",
    "                    \"fields\": [\"question^4\", \"text\"],\n",
    "                    \"type\": \"best_fields\"\n",
    "                }\n",
    "            },\n",
    "            \"filter\": {\n",
    "                \"term\": {\n",
    "                    \"course\": \"machine-learning-zoomcamp\"\n",
    "                }\n",
    "            }\n",
    "        }\n",
    "    }\n",
    "}"
   ]
  },
  {
   "cell_type": "code",
   "execution_count": 18,
   "id": "32e59cef-b458-47fe-a10c-9722253d0eb5",
   "metadata": {},
   "outputs": [],
   "source": [
    "response_modified = es.search(index=index_name, body=search_query_updated)"
   ]
  },
  {
   "cell_type": "code",
   "execution_count": 19,
   "id": "6e86cd90-2582-4a3c-9646-aa1ad7f74bd7",
   "metadata": {},
   "outputs": [],
   "source": [
    "questions = []\n",
    "\n",
    "for res_mod in response_modified['hits']['hits']:\n",
    "    questions.append(res_mod.get('_source').get('question'))"
   ]
  },
  {
   "cell_type": "code",
   "execution_count": 20,
   "id": "d9a63713-9976-425f-9eb1-7f8cb30d982a",
   "metadata": {},
   "outputs": [
    {
     "data": {
      "text/plain": [
       "'How do I copy files from a different folder into docker container’s working directory?'"
      ]
     },
     "execution_count": 20,
     "metadata": {},
     "output_type": "execute_result"
    }
   ],
   "source": [
    "questions[2] #3rd question"
   ]
  },
  {
   "cell_type": "markdown",
   "id": "e3236eda-147c-4fb2-ae67-a5a446fa5c5e",
   "metadata": {},
   "source": [
    "#### Q5. Building a prompt"
   ]
  },
  {
   "cell_type": "code",
   "execution_count": 21,
   "id": "2912174f-51e7-4211-a7bc-93d09adeaacc",
   "metadata": {},
   "outputs": [
    {
     "data": {
      "text/plain": [
       "[{'text': 'Launch the container image in interactive mode and overriding the entrypoint, so that it starts a bash command.\\ndocker run -it --entrypoint bash <image>\\nIf the container is already running, execute a command in the specific container:\\ndocker ps (find the container-id)\\ndocker exec -it <container-id> bash\\n(Marcos MJD)',\n",
       "  'section': '5. Deploying Machine Learning Models',\n",
       "  'question': 'How do I debug a docker container?',\n",
       "  'course': 'machine-learning-zoomcamp'},\n",
       " {'text': \"You can copy files from your local machine into a Docker container using the docker cp command. Here's how to do it:\\nTo copy a file or directory from your local machine into a running Docker container, you can use the `docker cp command`. The basic syntax is as follows:\\ndocker cp /path/to/local/file_or_directory container_id:/path/in/container\\nHrithik Kumar Advani\",\n",
       "  'section': '5. Deploying Machine Learning Models',\n",
       "  'question': 'How do I copy files from my local machine to docker container?',\n",
       "  'course': 'machine-learning-zoomcamp'},\n",
       " {'text': 'You can copy files from your local machine into a Docker container using the docker cp command. Here\\'s how to do it:\\nIn the Dockerfile, you can provide the folder containing the files that you want to copy over. The basic syntax is as follows:\\nCOPY [\"src/predict.py\", \"models/xgb_model.bin\", \"./\"]\\t\\t\\t\\t\\t\\t\\t\\t\\t\\t\\tGopakumar Gopinathan',\n",
       "  'section': '5. Deploying Machine Learning Models',\n",
       "  'question': 'How do I copy files from a different folder into docker container’s working directory?',\n",
       "  'course': 'machine-learning-zoomcamp'}]"
      ]
     },
     "execution_count": 21,
     "metadata": {},
     "output_type": "execute_result"
    }
   ],
   "source": [
    "records_for_Q5 = []\n",
    "for res_mod in response_modified['hits']['hits']:\n",
    "    records_for_Q5.append(res_mod.get('_source'))\n",
    "records_for_Q5"
   ]
  },
  {
   "cell_type": "code",
   "execution_count": 41,
   "id": "909c9ef5-0fd1-4d75-b03f-9fd647d937be",
   "metadata": {},
   "outputs": [],
   "source": [
    "prompt_template = \"\"\"\n",
    "You're a course teaching assistant. Answer the QUESTION based on the CONTEXT from the FAQ database.\n",
    "Use only the facts from the CONTEXT when answering the QUESTION.\n",
    "\n",
    "QUESTION: {question}\n",
    "\n",
    "CONTEXT:\n",
    "{context}\n",
    "\"\"\".strip()\n",
    "\n",
    "context = \"\"\n",
    "\n",
    "for record in records_for_Q5:\n",
    "    context = context + f\"Q: {record['question']}\\nA: {record['text']}\\n\\n\"   #strucutred exactly as per given 'context_template'\n",
    "\n",
    "prompt = prompt_template.format(question=changed_query, context=context).strip()"
   ]
  },
  {
   "cell_type": "code",
   "execution_count": 42,
   "id": "f7c7eee7-1610-4102-b401-25e1c37eb528",
   "metadata": {},
   "outputs": [
    {
     "data": {
      "text/plain": [
       "1446"
      ]
     },
     "execution_count": 42,
     "metadata": {},
     "output_type": "execute_result"
    }
   ],
   "source": [
    "len(prompt) # length of the resulting prompt"
   ]
  },
  {
   "cell_type": "code",
   "execution_count": 58,
   "id": "7e8d2757-3322-41be-827b-6cadc6d2c088",
   "metadata": {},
   "outputs": [
    {
     "name": "stdout",
     "output_type": "stream",
     "text": [
      "You're a course teaching assistant. Answer the QUESTION based on the CONTEXT from the FAQ database.\n",
      "Use only the facts from the CONTEXT when answering the QUESTION.\n",
      "\n",
      "QUESTION: How do copy a file to a Docker container?\n",
      "\n",
      "CONTEXT:\n",
      "Q: How do I debug a docker container?\n",
      "A: Launch the container image in interactive mode and overriding the entrypoint, so that it starts a bash command.\n",
      "docker run -it --entrypoint bash <image>\n",
      "If the container is already running, execute a command in the specific container:\n",
      "docker ps (find the container-id)\n",
      "docker exec -it <container-id> bash\n",
      "(Marcos MJD)\n",
      "\n",
      "Q: How do I copy files from my local machine to docker container?\n",
      "A: You can copy files from your local machine into a Docker container using the docker cp command. Here's how to do it:\n",
      "To copy a file or directory from your local machine into a running Docker container, you can use the `docker cp command`. The basic syntax is as follows:\n",
      "docker cp /path/to/local/file_or_directory container_id:/path/in/container\n",
      "Hrithik Kumar Advani\n",
      "\n",
      "Q: How do I copy files from a different folder into docker container’s working directory?\n",
      "A: You can copy files from your local machine into a Docker container using the docker cp command. Here's how to do it:\n",
      "In the Dockerfile, you can provide the folder containing the files that you want to copy over. The basic syntax is as follows:\n",
      "COPY [\"src/predict.py\", \"models/xgb_model.bin\", \"./\"]\t\t\t\t\t\t\t\t\t\t\tGopakumar Gopinathan\n"
     ]
    }
   ],
   "source": [
    "print(prompt) # the prompt"
   ]
  },
  {
   "cell_type": "markdown",
   "id": "47b3f43a-6973-4034-a3f0-6832aebf190e",
   "metadata": {},
   "source": [
    "#### Q6. Tokens"
   ]
  },
  {
   "cell_type": "code",
   "execution_count": 77,
   "id": "fc321de7-101d-4c42-a48d-8bdb81dd55f4",
   "metadata": {},
   "outputs": [
    {
     "name": "stdout",
     "output_type": "stream",
     "text": [
      "Collecting tiktoken\n",
      "  Downloading tiktoken-0.9.0-cp311-cp311-manylinux_2_17_x86_64.manylinux2014_x86_64.whl.metadata (6.7 kB)\n",
      "Requirement already satisfied: regex>=2022.1.18 in /home/sidd4ml/.pyenv/versions/3.11.5/lib/python3.11/site-packages (from tiktoken) (2024.11.6)\n",
      "Requirement already satisfied: requests>=2.26.0 in /home/sidd4ml/.pyenv/versions/3.11.5/lib/python3.11/site-packages (from tiktoken) (2.32.3)\n",
      "Requirement already satisfied: charset-normalizer<4,>=2 in /home/sidd4ml/.pyenv/versions/3.11.5/lib/python3.11/site-packages (from requests>=2.26.0->tiktoken) (3.4.1)\n",
      "Requirement already satisfied: idna<4,>=2.5 in /home/sidd4ml/.pyenv/versions/3.11.5/lib/python3.11/site-packages (from requests>=2.26.0->tiktoken) (3.10)\n",
      "Requirement already satisfied: urllib3<3,>=1.21.1 in /home/sidd4ml/.pyenv/versions/3.11.5/lib/python3.11/site-packages (from requests>=2.26.0->tiktoken) (2.3.0)\n",
      "Requirement already satisfied: certifi>=2017.4.17 in /home/sidd4ml/.pyenv/versions/3.11.5/lib/python3.11/site-packages (from requests>=2.26.0->tiktoken) (2024.8.30)\n",
      "Downloading tiktoken-0.9.0-cp311-cp311-manylinux_2_17_x86_64.manylinux2014_x86_64.whl (1.2 MB)\n",
      "\u001b[2K   \u001b[90m━━━━━━━━━━━━━━━━━━━━━━━━━━━━━━━━━━━━━━━━\u001b[0m \u001b[32m1.2/1.2 MB\u001b[0m \u001b[31m3.4 MB/s\u001b[0m eta \u001b[36m0:00:00\u001b[0ma \u001b[36m0:00:01\u001b[0m\n",
      "\u001b[?25hInstalling collected packages: tiktoken\n",
      "Successfully installed tiktoken-0.9.0\n",
      "\n",
      "\u001b[1m[\u001b[0m\u001b[34;49mnotice\u001b[0m\u001b[1;39;49m]\u001b[0m\u001b[39;49m A new release of pip is available: \u001b[0m\u001b[31;49m24.3.1\u001b[0m\u001b[39;49m -> \u001b[0m\u001b[32;49m25.1.1\u001b[0m\n",
      "\u001b[1m[\u001b[0m\u001b[34;49mnotice\u001b[0m\u001b[1;39;49m]\u001b[0m\u001b[39;49m To update, run: \u001b[0m\u001b[32;49mpip install --upgrade pip\u001b[0m\n"
     ]
    }
   ],
   "source": [
    "!pip install tiktoken"
   ]
  },
  {
   "cell_type": "code",
   "execution_count": 92,
   "id": "a659aef1-e6d2-4cd1-91d7-10ce83ad2c5f",
   "metadata": {},
   "outputs": [],
   "source": [
    "import tiktoken"
   ]
  },
  {
   "cell_type": "code",
   "execution_count": 94,
   "id": "5fa826a8-23a2-49aa-a6b5-0fc3cc01c97a",
   "metadata": {},
   "outputs": [
    {
     "name": "stdout",
     "output_type": "stream",
     "text": [
      "Token count: 323\n"
     ]
    }
   ],
   "source": [
    "# Create a custom encoding for Llama 3\n",
    "llama3_encoding = tiktoken.get_encoding(\"cl100k_base\")\n",
    "  \n",
    "# Encode the prompt\n",
    "tokens = llama3_encoding.encode(prompt)\n",
    "\n",
    "print(f\"Token count: {len(tokens)}\")"
   ]
  },
  {
   "cell_type": "markdown",
   "id": "39595e82-c677-46b8-bd19-2c6416cc9f2b",
   "metadata": {},
   "source": [
    "### End of graded assignment"
   ]
  }
 ],
 "metadata": {
  "kernelspec": {
   "display_name": "Python 3.11.5",
   "language": "python",
   "name": "3.11.5"
  },
  "language_info": {
   "codemirror_mode": {
    "name": "ipython",
    "version": 3
   },
   "file_extension": ".py",
   "mimetype": "text/x-python",
   "name": "python",
   "nbconvert_exporter": "python",
   "pygments_lexer": "ipython3",
   "version": "3.11.5"
  }
 },
 "nbformat": 4,
 "nbformat_minor": 5
}
