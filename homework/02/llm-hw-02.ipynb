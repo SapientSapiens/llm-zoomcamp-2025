{
 "cells": [
  {
   "cell_type": "code",
   "execution_count": 26,
   "id": "996684c9-154b-461f-ac4a-fcd441b428fe",
   "metadata": {},
   "outputs": [],
   "source": [
    "import numpy as np"
   ]
  },
  {
   "cell_type": "markdown",
   "id": "39f21013-94bd-42ac-831c-d15e221f1b97",
   "metadata": {},
   "source": [
    "### Q1"
   ]
  },
  {
   "cell_type": "code",
   "execution_count": 125,
   "id": "b4896886-9536-40d3-a22c-dbbc9aea6455",
   "metadata": {},
   "outputs": [],
   "source": [
    "from fastembed import TextEmbedding"
   ]
  },
  {
   "cell_type": "code",
   "execution_count": 126,
   "id": "14ebd513-afe7-4740-8087-cc8078a99907",
   "metadata": {},
   "outputs": [],
   "source": [
    "query_1 = 'I just discovered the course. Can I join now?'"
   ]
  },
  {
   "cell_type": "code",
   "execution_count": 127,
   "id": "ee78bb6f-64fb-4844-8944-efa7ff259e7e",
   "metadata": {},
   "outputs": [],
   "source": [
    "from qdrant_client import QdrantClient, models"
   ]
  },
  {
   "cell_type": "code",
   "execution_count": 128,
   "id": "24fbaacb-cfa6-4b3b-a43a-c51016d2ee54",
   "metadata": {},
   "outputs": [],
   "source": [
    "model_name = 'jinaai/jina-embeddings-v2-small-en'"
   ]
  },
  {
   "cell_type": "code",
   "execution_count": 129,
   "id": "06260686-86d1-4796-b672-c2cc5f94c9a7",
   "metadata": {},
   "outputs": [],
   "source": [
    "model = TextEmbedding(model_name=model_name)"
   ]
  },
  {
   "cell_type": "code",
   "execution_count": 130,
   "id": "2727352e-a9ff-47f4-b438-95b000b46623",
   "metadata": {},
   "outputs": [],
   "source": [
    "embeddings = list(model.embed([query_1]))\n",
    "query_vector = embeddings[0]"
   ]
  },
  {
   "cell_type": "code",
   "execution_count": 131,
   "id": "a2da751d-a570-440c-b2e1-39e4acfbaa07",
   "metadata": {},
   "outputs": [
    {
     "name": "stdout",
     "output_type": "stream",
     "text": [
      "Vector dimension: 512\n",
      "Min value in the vector: -0.11726373885183883\n"
     ]
    }
   ],
   "source": [
    "print(\"Vector dimension:\", len(query_vector))\n",
    "print(\"Min value in the vector:\", np.min(query_vector))"
   ]
  },
  {
   "cell_type": "markdown",
   "id": "3c1dd39e-3604-4056-bfc8-7070463a6b25",
   "metadata": {},
   "source": [
    "#### verifying"
   ]
  },
  {
   "cell_type": "code",
   "execution_count": 132,
   "id": "c89518ba-b962-424e-8fb3-0c62dff02cd8",
   "metadata": {},
   "outputs": [
    {
     "name": "stdout",
     "output_type": "stream",
     "text": [
      "Norm of q: 1.0\n"
     ]
    }
   ],
   "source": [
    "norm_value = np.linalg.norm(query_vector)  # Should be ≈1.0\n",
    "print(f\"Norm of q: {norm_value}\")"
   ]
  },
  {
   "cell_type": "code",
   "execution_count": 133,
   "id": "ee1a0534-3997-4b69-a73b-dc645c8a33c5",
   "metadata": {},
   "outputs": [],
   "source": [
    "dot_product = query_vector.dot(query_vector)"
   ]
  },
  {
   "cell_type": "code",
   "execution_count": 134,
   "id": "91623dd3-b624-4371-b0f3-c3da4bf49e23",
   "metadata": {},
   "outputs": [
    {
     "name": "stdout",
     "output_type": "stream",
     "text": [
      "1.0\n"
     ]
    }
   ],
   "source": [
    "print(f\"{dot_product:.1f}\")"
   ]
  },
  {
   "cell_type": "markdown",
   "id": "97d64d68-decb-4ef0-89ee-299c27f468b3",
   "metadata": {},
   "source": [
    "### Q2"
   ]
  },
  {
   "cell_type": "code",
   "execution_count": 54,
   "id": "26a62adc-26f8-487b-9007-83f999ee4dc0",
   "metadata": {},
   "outputs": [],
   "source": [
    "doc = 'Can I still join the course after the start date?'"
   ]
  },
  {
   "cell_type": "code",
   "execution_count": 55,
   "id": "4c504d50-d9be-4849-bcad-a95675a3c4bd",
   "metadata": {},
   "outputs": [],
   "source": [
    "embeddings_doc = list(model.embed([doc]))\n",
    "doc_vector = embeddings_doc[0]"
   ]
  },
  {
   "cell_type": "code",
   "execution_count": 58,
   "id": "a13c24ec-af7c-4540-a27e-657cae1ba0f1",
   "metadata": {},
   "outputs": [
    {
     "name": "stdout",
     "output_type": "stream",
     "text": [
      "Vector dimension: 512\n",
      "Min value in the vector: -0.12396320482168117\n"
     ]
    }
   ],
   "source": [
    "print(\"Vector dimension:\", len(doc_vector))\n",
    "print(\"Min value in the vector:\", np.min(doc_vector))"
   ]
  },
  {
   "cell_type": "code",
   "execution_count": 60,
   "id": "518851e5-a111-43e5-adcb-13cb409579b9",
   "metadata": {},
   "outputs": [
    {
     "name": "stdout",
     "output_type": "stream",
     "text": [
      "Norm of q: 1.0\n"
     ]
    }
   ],
   "source": [
    "norm_value = np.linalg.norm(doc_vector)  # Should be ≈1.0\n",
    "print(f\"Norm of q: {norm_value}\")"
   ]
  },
  {
   "cell_type": "code",
   "execution_count": 62,
   "id": "67a74f8e-a904-4e58-bdf2-e7f60fde8dea",
   "metadata": {},
   "outputs": [],
   "source": [
    "cosine_similarity = query_vector.dot(doc_vector)"
   ]
  },
  {
   "cell_type": "code",
   "execution_count": 70,
   "id": "641a2da2-f6da-4ea4-9683-37bb6083a51c",
   "metadata": {},
   "outputs": [
    {
     "name": "stdout",
     "output_type": "stream",
     "text": [
      "Cosine Similarity is 0.90\n"
     ]
    }
   ],
   "source": [
    "print(f\"Cosine Similarity is {cosine_similarity:.2f}\")"
   ]
  },
  {
   "cell_type": "markdown",
   "id": "1bb5041b-72ed-4f0c-970b-625297218997",
   "metadata": {},
   "source": [
    "### Q3"
   ]
  },
  {
   "cell_type": "code",
   "execution_count": 88,
   "id": "1560b794-ed6b-42ac-9cb1-4e9e79565095",
   "metadata": {},
   "outputs": [],
   "source": [
    "documents = [{'text': \"Yes, even if you don't register, you're still eligible to submit the homeworks.\\nBe aware, however, that there will be deadlines for turning in the final projects. So don't leave everything for the last minute.\",\n",
    "  'section': 'General course-related questions',\n",
    "  'question': 'Course - Can I still join the course after the start date?',\n",
    "  'course': 'data-engineering-zoomcamp'},\n",
    " {'text': 'Yes, we will keep all the materials after the course finishes, so you can follow the course at your own pace after it finishes.\\nYou can also continue looking at the homeworks and continue preparing for the next cohort. I guess you can also start working on your final capstone project.',\n",
    "  'section': 'General course-related questions',\n",
    "  'question': 'Course - Can I follow the course after it finishes?',\n",
    "  'course': 'data-engineering-zoomcamp'},\n",
    " {'text': \"The purpose of this document is to capture frequently asked technical questions\\nThe exact day and hour of the course will be 15th Jan 2024 at 17h00. The course will start with the first  “Office Hours'' live.1\\nSubscribe to course public Google Calendar (it works from Desktop only).\\nRegister before the course starts using this link.\\nJoin the course Telegram channel with announcements.\\nDon’t forget to register in DataTalks.Club's Slack and join the channel.\",\n",
    "  'section': 'General course-related questions',\n",
    "  'question': 'Course - When will the course start?',\n",
    "  'course': 'data-engineering-zoomcamp'},\n",
    " {'text': 'You can start by installing and setting up all the dependencies and requirements:\\nGoogle cloud account\\nGoogle Cloud SDK\\nPython 3 (installed with Anaconda)\\nTerraform\\nGit\\nLook over the prerequisites and syllabus to see if you are comfortable with these subjects.',\n",
    "  'section': 'General course-related questions',\n",
    "  'question': 'Course - What can I do before the course starts?',\n",
    "  'course': 'data-engineering-zoomcamp'},\n",
    " {'text': 'Star the repo! Share it with friends if you find it useful ❣️\\nCreate a PR if you see you can improve the text or the structure of the repository.',\n",
    "  'section': 'General course-related questions',\n",
    "  'question': 'How can we contribute to the course?',\n",
    "  'course': 'data-engineering-zoomcamp'}]"
   ]
  },
  {
   "cell_type": "code",
   "execution_count": 73,
   "id": "f3fb47af-95ef-48c4-89ce-0f69f697548e",
   "metadata": {},
   "outputs": [],
   "source": [
    "cos_sims= []\n",
    "for doc in documents:\n",
    "   doc_vector = list(model.embed([doc['text']]))[0]\n",
    "   cos_sim= np.dot(doc_vector, query_vector)\n",
    "   cos_sims.append(cos_sim)"
   ]
  },
  {
   "cell_type": "code",
   "execution_count": 78,
   "id": "655516bb-3e71-49eb-a7e9-fc1a49708a5b",
   "metadata": {},
   "outputs": [],
   "source": [
    "best_idx = np.argmax(cos_sims)"
   ]
  },
  {
   "cell_type": "code",
   "execution_count": 79,
   "id": "ccd5ccda-2d39-456e-9d59-0e918e3e8eab",
   "metadata": {},
   "outputs": [
    {
     "name": "stdout",
     "output_type": "stream",
     "text": [
      "The index with the highest similarity with the query vector is 1\n"
     ]
    }
   ],
   "source": [
    "print(f\"The index with the highest similarity with the query vector is {best_idx}\")"
   ]
  },
  {
   "cell_type": "markdown",
   "id": "75c23c06-a874-4499-be8a-6248633fcd1f",
   "metadata": {},
   "source": [
    "#### verifying with alternate method as described in question"
   ]
  },
  {
   "cell_type": "code",
   "execution_count": 82,
   "id": "966a3d63-e556-4bee-9f37-4f22ba00df45",
   "metadata": {},
   "outputs": [],
   "source": [
    "texts = [doc['text'] for doc in documents]"
   ]
  },
  {
   "cell_type": "code",
   "execution_count": 84,
   "id": "c97f5f4d-a0e2-4c79-aaef-b9d08d2bc244",
   "metadata": {},
   "outputs": [],
   "source": [
    "V = np.vstack(list(model.embed(texts)))"
   ]
  },
  {
   "cell_type": "code",
   "execution_count": 85,
   "id": "433c2b3b-0d14-44b8-a84b-74c4b2599cd7",
   "metadata": {},
   "outputs": [],
   "source": [
    "cos_sims = V.dot(query_vector)"
   ]
  },
  {
   "cell_type": "code",
   "execution_count": 86,
   "id": "94507895-16c6-44a3-a5e7-919dd1d1e2cd",
   "metadata": {},
   "outputs": [
    {
     "data": {
      "text/plain": [
       "array([0.76296847, 0.81823782, 0.80853974, 0.7133079 , 0.73044992])"
      ]
     },
     "execution_count": 86,
     "metadata": {},
     "output_type": "execute_result"
    }
   ],
   "source": [
    "cos_sims"
   ]
  },
  {
   "cell_type": "code",
   "execution_count": 87,
   "id": "a9e85fb2-c39b-4a36-b3a8-8082afc300c2",
   "metadata": {},
   "outputs": [
    {
     "name": "stdout",
     "output_type": "stream",
     "text": [
      "The index with the highest similarity is 1\n"
     ]
    }
   ],
   "source": [
    "best_idx = int(np.argmax(cos_sims))\n",
    "print(f\"The index with the highest similarity is {best_idx}\")"
   ]
  },
  {
   "cell_type": "markdown",
   "id": "648e5ea3-84be-45bd-b005-dd5bdca139f2",
   "metadata": {},
   "source": [
    "### Q4"
   ]
  },
  {
   "cell_type": "code",
   "execution_count": 89,
   "id": "988cc40b-f022-4722-8ec1-dfc76f101a44",
   "metadata": {},
   "outputs": [],
   "source": [
    "cos_sims = []\n",
    "for doc in documents:\n",
    "    full_text = doc['question'] + ' ' + doc['text']\n",
    "    full_text_vector = list(model.embed(full_text))[0]\n",
    "    cos_sim= np.dot(full_text_vector, query_vector)\n",
    "    cos_sims.append(cos_sim)"
   ]
  },
  {
   "cell_type": "code",
   "execution_count": 91,
   "id": "59a4cf35-c94f-4934-ab37-a0ba41f10b1d",
   "metadata": {},
   "outputs": [
    {
     "name": "stdout",
     "output_type": "stream",
     "text": [
      "The index with the highest similarity with the query vector is 0\n"
     ]
    }
   ],
   "source": [
    "best_idx = np.argmax(cos_sims)\n",
    "print(f\"The index with the highest similarity with the query vector is {best_idx}\")"
   ]
  },
  {
   "cell_type": "code",
   "execution_count": 99,
   "id": "10ddbbed-5b33-49d7-982c-ef13247a9507",
   "metadata": {},
   "outputs": [],
   "source": [
    "cos_sims = [np.dot(list(model.embed(doc['question'] + ' ' + doc['text']))[0], query_vector) for doc in documents]"
   ]
  },
  {
   "cell_type": "code",
   "execution_count": 100,
   "id": "0260c8aa-50f0-41ad-981c-68ff5e2db598",
   "metadata": {},
   "outputs": [
    {
     "name": "stdout",
     "output_type": "stream",
     "text": [
      "The index with the highest similarity with the query vector is 0\n"
     ]
    }
   ],
   "source": [
    "best_idx = np.argmax(cos_sims)\n",
    "print(f\"The index with the highest similarity with the query vector is {best_idx}\")"
   ]
  },
  {
   "cell_type": "markdown",
   "id": "b311c34b-dbc0-42d6-a18c-922a8f3deea6",
   "metadata": {},
   "source": [
    "### Q5"
   ]
  },
  {
   "cell_type": "code",
   "execution_count": 102,
   "id": "e2a053c4-9d4c-44f1-b8da-2cac6d9885ab",
   "metadata": {},
   "outputs": [],
   "source": [
    "model_dict = {}\n",
    "for model in TextEmbedding.list_supported_models():\n",
    "  model_dict[model['model']] = model['dim']"
   ]
  },
  {
   "cell_type": "code",
   "execution_count": 105,
   "id": "b0788701-48b8-4ce6-83c2-a3373356e5f9",
   "metadata": {},
   "outputs": [],
   "source": [
    "min_dim = min(model_dict.values())"
   ]
  },
  {
   "cell_type": "code",
   "execution_count": 109,
   "id": "d500f352-4c12-4afb-b6bd-89713043916e",
   "metadata": {},
   "outputs": [],
   "source": [
    "models_with_min_dim = [name for name, dim in model_dict.items() if dim == min_dim]"
   ]
  },
  {
   "cell_type": "code",
   "execution_count": 110,
   "id": "d97d18de-67b7-483f-9718-79fd67e284c1",
   "metadata": {},
   "outputs": [
    {
     "name": "stdout",
     "output_type": "stream",
     "text": [
      "Lowest  dimension is 384, from model(s): ['BAAI/bge-small-en', 'BAAI/bge-small-en-v1.5', 'snowflake/snowflake-arctic-embed-xs', 'snowflake/snowflake-arctic-embed-s', 'sentence-transformers/all-MiniLM-L6-v2', 'sentence-transformers/paraphrase-multilingual-MiniLM-L12-v2']\n"
     ]
    }
   ],
   "source": [
    "print(f\"Lowest  dimension is {min_dim}, from model(s): {models_with_min_dim}\")"
   ]
  },
  {
   "cell_type": "code",
   "execution_count": 120,
   "id": "fac8e90b-5691-4950-9c40-c861447b5ad5",
   "metadata": {},
   "outputs": [],
   "source": [
    "naya_model_name = 'BAAI/bge-small-en'"
   ]
  },
  {
   "cell_type": "markdown",
   "id": "2dbb779f-e340-4b10-bb4e-c861a4f930dc",
   "metadata": {},
   "source": [
    "### Q6"
   ]
  },
  {
   "cell_type": "code",
   "execution_count": 119,
   "id": "a0b155fd-991a-4db4-ada1-00ce170ed392",
   "metadata": {},
   "outputs": [],
   "source": [
    "import requests \n",
    "\n",
    "docs_url = 'https://github.com/alexeygrigorev/llm-rag-workshop/raw/main/notebooks/documents.json'\n",
    "docs_response = requests.get(docs_url)\n",
    "documents_raw = docs_response.json()\n",
    "\n",
    "\n",
    "naya_documents = []\n",
    "\n",
    "for course in documents_raw:\n",
    "    course_name = course['course']\n",
    "    if course_name != 'machine-learning-zoomcamp':\n",
    "        continue\n",
    "\n",
    "    for doc in course['documents']:\n",
    "        doc['course'] = course_name\n",
    "        naya_documents.append(doc)"
   ]
  },
  {
   "cell_type": "code",
   "execution_count": 116,
   "id": "e5710ded-d804-4322-9509-9481039c2594",
   "metadata": {},
   "outputs": [
    {
     "data": {
      "text/plain": [
       "CollectionsResponse(collections=[])"
      ]
     },
     "execution_count": 116,
     "metadata": {},
     "output_type": "execute_result"
    }
   ],
   "source": [
    "client = QdrantClient(\"http://localhost:6333\")\n",
    "client.get_collections()"
   ]
  },
  {
   "cell_type": "code",
   "execution_count": 117,
   "id": "90a73f90-67d8-40ef-bc16-615796616425",
   "metadata": {},
   "outputs": [],
   "source": [
    "collection_name = 'llm-assignment'"
   ]
  },
  {
   "cell_type": "code",
   "execution_count": 118,
   "id": "b61d8378-ced2-4e62-ac09-15bf02e58bca",
   "metadata": {},
   "outputs": [
    {
     "data": {
      "text/plain": [
       "True"
      ]
     },
     "execution_count": 118,
     "metadata": {},
     "output_type": "execute_result"
    }
   ],
   "source": [
    "client.create_collection(\n",
    "    collection_name=collection_name,\n",
    "    vectors_config=models.VectorParams(\n",
    "        size = 384,\n",
    "        distance=models.Distance.COSINE\n",
    "    )\n",
    ")"
   ]
  },
  {
   "cell_type": "markdown",
   "id": "be0ac7ba-4218-4db6-aed7-c997ca6387bd",
   "metadata": {},
   "source": [
    "points =[]\n",
    "id=0\n",
    "\n",
    "for doc in naya_documents:\n",
    "    point = models.PointStruct(\n",
    "        id=id,\n",
    "        vector=models.Document(text=doc['question'] + ' ' + doc['text'], model = naya_model_name),\n",
    "        payload={\n",
    "           \"text\":  doc['text'],\n",
    "           \"section\": doc['section'],\n",
    "           \"question\": doc['question']\n",
    "        }\n",
    "    )\n",
    "    points.append(point)\n",
    "    \n",
    "    id += 1"
   ]
  },
  {
   "cell_type": "code",
   "execution_count": 124,
   "id": "dc2c5a86-cd27-4330-8b12-cb4739d676c0",
   "metadata": {},
   "outputs": [
    {
     "name": "stderr",
     "output_type": "stream",
     "text": [
      "Fetching 5 files: 100%|███████████████████████████████████████████████████████████████████████████████████████████████| 5/5 [00:37<00:00,  7.42s/it]\n"
     ]
    },
    {
     "data": {
      "text/plain": [
       "UpdateResult(operation_id=0, status=<UpdateStatus.COMPLETED: 'completed'>)"
      ]
     },
     "execution_count": 124,
     "metadata": {},
     "output_type": "execute_result"
    }
   ],
   "source": [
    "client.upsert(\n",
    "    collection_name = collection_name,\n",
    "    points = points\n",
    ")"
   ]
  },
  {
   "cell_type": "code",
   "execution_count": 141,
   "id": "efc7bed6-758e-4d8c-8518-460d750c748d",
   "metadata": {},
   "outputs": [],
   "source": [
    "query_text   = \"I just discovered the course. Can I join now?\"\n",
    "query_vector = list(TextEmbedding(model_name=naya_model_name).embed([query_text]))[0]"
   ]
  },
  {
   "cell_type": "code",
   "execution_count": 142,
   "id": "13fded49-8359-4bfa-bed9-ec442fd861a2",
   "metadata": {},
   "outputs": [
    {
     "name": "stderr",
     "output_type": "stream",
     "text": [
      "/tmp/ipykernel_1554/3120804225.py:1: DeprecationWarning: `search` method is deprecated and will be removed in the future. Use `query_points` instead.\n",
      "  results = client.search(\n"
     ]
    }
   ],
   "source": [
    "results = client.search(\n",
    "    collection_name=collection_name,\n",
    "    query_vector=query_vector,\n",
    "    limit=1\n",
    ")"
   ]
  },
  {
   "cell_type": "code",
   "execution_count": 154,
   "id": "34ee241b-4dea-418f-84fa-c6a943743693",
   "metadata": {},
   "outputs": [
    {
     "data": {
      "text/plain": [
       "'Yes, you can. You won’t be able to submit some of the homeworks, but you can still take part in the course.\\nIn order to get a certificate, you need to submit 2 out of 3 course projects and review 3 peers’ Projects by the deadline. It means that if you join the course at the end of November and manage to work on two projects, you will still be eligible for a certificate.'"
      ]
     },
     "execution_count": 154,
     "metadata": {},
     "output_type": "execute_result"
    }
   ],
   "source": [
    "results[0].payload['text']"
   ]
  },
  {
   "cell_type": "code",
   "execution_count": 147,
   "id": "3c4ace8e-c0a9-4b8e-a1c8-270900f5a77d",
   "metadata": {},
   "outputs": [
    {
     "name": "stdout",
     "output_type": "stream",
     "text": [
      "Top score: 0.8703172\n"
     ]
    }
   ],
   "source": [
    "top_score=results[0].score\n",
    "print(\"Top score:\", top_score)"
   ]
  },
  {
   "cell_type": "markdown",
   "id": "4df7fceb-1fc5-4b59-a4ff-3025c155ca9a",
   "metadata": {},
   "source": [
    "### FIN"
   ]
  }
 ],
 "metadata": {
  "kernelspec": {
   "display_name": "Python 3 (ipykernel)",
   "language": "python",
   "name": "python3"
  },
  "language_info": {
   "codemirror_mode": {
    "name": "ipython",
    "version": 3
   },
   "file_extension": ".py",
   "mimetype": "text/x-python",
   "name": "python",
   "nbconvert_exporter": "python",
   "pygments_lexer": "ipython3",
   "version": "3.12.7"
  }
 },
 "nbformat": 4,
 "nbformat_minor": 5
}
